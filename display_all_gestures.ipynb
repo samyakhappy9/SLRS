{
 "cells": [
  {
   "cell_type": "code",
   "execution_count": null,
   "id": "69fac05f",
   "metadata": {},
   "outputs": [],
   "source": [
    "import cv2, os, random\n",
    "import numpy as np\n",
    "\n",
    "def get_image_size():\n",
    "    img = cv2.imread('gestures/0/100.jpg', 0)\n",
    "    return img.shape\n",
    "\n",
    "gestures = os.listdir('gestures/')\n",
    "gestures.sort(key = int)\n",
    "begin_index = 0\n",
    "end_index = 5\n",
    "image_x, image_y = get_image_size()\n",
    "\n",
    "if len(gestures)%5 != 0:\n",
    "    rows = int(len(gestures)/5)+1\n",
    "else:\n",
    "    rows = int(len(gestures)/5)\n",
    "\n",
    "full_img = None\n",
    "for i in range(rows):\n",
    "    col_img = None\n",
    "    for j in range(begin_index, end_index):\n",
    "        img_path = \"gestures/%s/%d.jpg\" % (j, random.randint(1, 1200))\n",
    "        img = cv2.imread(img_path, 0)\n",
    "        if np.any(img == None):\n",
    "            img = np.zeros((image_y, image_x), dtype = np.uint8)\n",
    "        if np.any(col_img == None):\n",
    "            col_img = img\n",
    "        else:\n",
    "            col_img = np.hstack((col_img, img))\n",
    "\n",
    "    begin_index += 5\n",
    "    end_index += 5\n",
    "    if np.any(full_img == None):\n",
    "        full_img = col_img\n",
    "    else:\n",
    "        full_img = np.vstack((full_img, col_img))\n",
    "\n",
    "cv2.imshow(\"gestures\", full_img)\n",
    "cv2.imwrite('full_img.jpg', full_img)\n",
    "cv2.waitKey(0)"
   ]
  },
  {
   "cell_type": "code",
   "execution_count": null,
   "id": "3d7a8fda",
   "metadata": {},
   "outputs": [],
   "source": []
  }
 ],
 "metadata": {
  "kernelspec": {
   "display_name": "Python 3 (ipykernel)",
   "language": "python",
   "name": "python3"
  },
  "language_info": {
   "codemirror_mode": {
    "name": "ipython",
    "version": 3
   },
   "file_extension": ".py",
   "mimetype": "text/x-python",
   "name": "python",
   "nbconvert_exporter": "python",
   "pygments_lexer": "ipython3",
   "version": "3.9.7"
  }
 },
 "nbformat": 4,
 "nbformat_minor": 5
}
